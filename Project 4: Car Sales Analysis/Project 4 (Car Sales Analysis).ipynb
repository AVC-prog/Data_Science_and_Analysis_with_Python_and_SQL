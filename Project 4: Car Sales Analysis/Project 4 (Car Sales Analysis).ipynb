{
 "cells": [
  {
   "cell_type": "markdown",
   "id": "d944532c-574e-4392-a375-5454dce2e4f5",
   "metadata": {},
   "source": [
    "# Project 4: Car Sales Analysis"
   ]
  },
  {
   "cell_type": "markdown",
   "id": "54472943-5a0f-438f-8826-f20dd2c61ca0",
   "metadata": {},
   "source": [
    "# Prefactory Remarks"
   ]
  },
  {
   "cell_type": "markdown",
   "id": "c1fc65cc-9daa-40dc-85a7-81ade757b672",
   "metadata": {},
   "source": [
    "- [x] **Create a virtual environment to download the packages**"
   ]
  },
  {
   "cell_type": "code",
   "execution_count": null,
   "id": "8f49aa35-5201-41c9-8a03-73f0452f26c4",
   "metadata": {},
   "outputs": [],
   "source": [
    "# You don't have to do this, it's just safer.\n",
    "\n",
    "# Install virtualenv (virtual environment):\n",
    "\n",
    "# !pip install virtualenv\n",
    "\n",
    "# Create a virtual environment named \"myenv\":\n",
    "\n",
    "# !python -m venv myenv\n",
    "\n",
    "# Activate the virtual environment:\n",
    "\n",
    "# myenv\\Scripts\\activate (Windows)\n",
    "# source myenv/bin/activate (macOS/Linux)\n",
    "\n",
    "# Upgrade pip and install essential data science libraries inside the virtual environment:\n",
    "\n",
    "# !myenv/bin/python -m pip install --upgrade pip  \n",
    "# !myenv/bin/python -m pip install numpy pandas matplotlib seaborn scikit-learn scipy statsmodels jupyterlab plotly openpyxl xlrd tensorflow keras torch torchvision pyspark ipykernel\n",
    "\n",
    "# Add the virtual environment as a Jupyter kernel:\n",
    "\n",
    "# !myenv/bin/python -m ipykernel install --user --name=myenv --display-name \"Python (myenv)\"\n",
    "\n",
    "# Deactivate the virtual environment (Run this in the terminal):\n",
    "\n",
    "# deactivate"
   ]
  },
  {
   "cell_type": "markdown",
   "id": "a2f88311-59f2-4fec-a3c7-4d29067f4aa7",
   "metadata": {},
   "source": [
    "- [x] **Libraries we might need to install or upgrade**"
   ]
  },
  {
   "cell_type": "code",
   "execution_count": null,
   "id": "34513213-1672-4534-848a-847e79ddfcb4",
   "metadata": {},
   "outputs": [],
   "source": [
    "# If you don't care to create a virtual environment, here is what you need to do to download the libraries\n",
    "\n",
    "# Run these directly in a cell to download the libraries:\n",
    "\n",
    "#!pip install tensorflow\n",
    "#!pip install pyspark\n",
    "#!pip install scikit-optimize (for skopt)\n",
    "#!pip install missingno\n",
    "#!pip install seaborn\n",
    "#!pip install numpy\n",
    "#!pip install pandas\n",
    "#!pip install matplotlib\n",
    "#!pip install scikit-learn\n",
    "\n",
    "# To update them, run this (with your desired library):\n",
    "\n",
    "#!pip install --upgrade scikit-learn"
   ]
  },
  {
   "cell_type": "markdown",
   "id": "2c912f02-7135-480f-88e7-64bb50e72be0",
   "metadata": {},
   "source": [
    "- [x] **Tips for rearranging your Notebook**"
   ]
  },
  {
   "cell_type": "markdown",
   "id": "27341266-c282-4f51-9821-c2068da01d38",
   "metadata": {},
   "source": [
    "- Hold ctrl+shift and click on the various cells you want to move, then press the arrow keys to move them up or down."
   ]
  },
  {
   "cell_type": "markdown",
   "id": "1d212908-d287-41b4-81bf-21353a76ccb9",
   "metadata": {},
   "source": [
    "## 1. Visualize the data"
   ]
  },
  {
   "cell_type": "markdown",
   "id": "be629626-c164-4306-93bc-e44a58a658b1",
   "metadata": {},
   "source": [
    "- [x] **View the data**"
   ]
  },
  {
   "cell_type": "code",
   "execution_count": 6,
   "id": "69ef56f8-f9ce-4974-8f1b-bdd02d71b5bd",
   "metadata": {},
   "outputs": [
    {
     "data": {
      "text/html": [
       "<div>\n",
       "<style scoped>\n",
       "    .dataframe tbody tr th:only-of-type {\n",
       "        vertical-align: middle;\n",
       "    }\n",
       "\n",
       "    .dataframe tbody tr th {\n",
       "        vertical-align: top;\n",
       "    }\n",
       "\n",
       "    .dataframe thead th {\n",
       "        text-align: right;\n",
       "    }\n",
       "</style>\n",
       "<table border=\"1\" class=\"dataframe\">\n",
       "  <thead>\n",
       "    <tr style=\"text-align: right;\">\n",
       "      <th></th>\n",
       "      <th>Car_id</th>\n",
       "      <th>Date</th>\n",
       "      <th>Customer Name</th>\n",
       "      <th>Gender</th>\n",
       "      <th>Annual Income</th>\n",
       "      <th>Dealer_Name</th>\n",
       "      <th>Company</th>\n",
       "      <th>Model</th>\n",
       "      <th>Engine</th>\n",
       "      <th>Transmission</th>\n",
       "      <th>Color</th>\n",
       "      <th>Price ($)</th>\n",
       "      <th>Dealer_No</th>\n",
       "      <th>Body Style</th>\n",
       "      <th>Phone</th>\n",
       "      <th>Dealer_Region</th>\n",
       "    </tr>\n",
       "  </thead>\n",
       "  <tbody>\n",
       "    <tr>\n",
       "      <th>0</th>\n",
       "      <td>C_CND_000001</td>\n",
       "      <td>1/2/2022</td>\n",
       "      <td>Geraldine</td>\n",
       "      <td>Male</td>\n",
       "      <td>13500</td>\n",
       "      <td>Buddy Storbeck's Diesel Service Inc</td>\n",
       "      <td>Ford</td>\n",
       "      <td>Expedition</td>\n",
       "      <td>DoubleÂ Overhead Camshaft</td>\n",
       "      <td>Auto</td>\n",
       "      <td>Black</td>\n",
       "      <td>26000</td>\n",
       "      <td>06457-3834</td>\n",
       "      <td>SUV</td>\n",
       "      <td>8264678</td>\n",
       "      <td>Middletown</td>\n",
       "    </tr>\n",
       "    <tr>\n",
       "      <th>1</th>\n",
       "      <td>C_CND_000002</td>\n",
       "      <td>1/2/2022</td>\n",
       "      <td>Gia</td>\n",
       "      <td>Male</td>\n",
       "      <td>1480000</td>\n",
       "      <td>C &amp; M Motors Inc</td>\n",
       "      <td>Dodge</td>\n",
       "      <td>Durango</td>\n",
       "      <td>DoubleÂ Overhead Camshaft</td>\n",
       "      <td>Auto</td>\n",
       "      <td>Black</td>\n",
       "      <td>19000</td>\n",
       "      <td>60504-7114</td>\n",
       "      <td>SUV</td>\n",
       "      <td>6848189</td>\n",
       "      <td>Aurora</td>\n",
       "    </tr>\n",
       "    <tr>\n",
       "      <th>2</th>\n",
       "      <td>C_CND_000003</td>\n",
       "      <td>1/2/2022</td>\n",
       "      <td>Gianna</td>\n",
       "      <td>Male</td>\n",
       "      <td>1035000</td>\n",
       "      <td>Capitol KIA</td>\n",
       "      <td>Cadillac</td>\n",
       "      <td>Eldorado</td>\n",
       "      <td>Overhead Camshaft</td>\n",
       "      <td>Manual</td>\n",
       "      <td>Red</td>\n",
       "      <td>31500</td>\n",
       "      <td>38701-8047</td>\n",
       "      <td>Passenger</td>\n",
       "      <td>7298798</td>\n",
       "      <td>Greenville</td>\n",
       "    </tr>\n",
       "    <tr>\n",
       "      <th>3</th>\n",
       "      <td>C_CND_000004</td>\n",
       "      <td>1/2/2022</td>\n",
       "      <td>Giselle</td>\n",
       "      <td>Male</td>\n",
       "      <td>13500</td>\n",
       "      <td>Chrysler of Tri-Cities</td>\n",
       "      <td>Toyota</td>\n",
       "      <td>Celica</td>\n",
       "      <td>Overhead Camshaft</td>\n",
       "      <td>Manual</td>\n",
       "      <td>Pale White</td>\n",
       "      <td>14000</td>\n",
       "      <td>99301-3882</td>\n",
       "      <td>SUV</td>\n",
       "      <td>6257557</td>\n",
       "      <td>Pasco</td>\n",
       "    </tr>\n",
       "    <tr>\n",
       "      <th>4</th>\n",
       "      <td>C_CND_000005</td>\n",
       "      <td>1/2/2022</td>\n",
       "      <td>Grace</td>\n",
       "      <td>Male</td>\n",
       "      <td>1465000</td>\n",
       "      <td>Chrysler Plymouth</td>\n",
       "      <td>Acura</td>\n",
       "      <td>TL</td>\n",
       "      <td>DoubleÂ Overhead Camshaft</td>\n",
       "      <td>Auto</td>\n",
       "      <td>Red</td>\n",
       "      <td>24500</td>\n",
       "      <td>53546-9427</td>\n",
       "      <td>Hatchback</td>\n",
       "      <td>7081483</td>\n",
       "      <td>Janesville</td>\n",
       "    </tr>\n",
       "    <tr>\n",
       "      <th>...</th>\n",
       "      <td>...</td>\n",
       "      <td>...</td>\n",
       "      <td>...</td>\n",
       "      <td>...</td>\n",
       "      <td>...</td>\n",
       "      <td>...</td>\n",
       "      <td>...</td>\n",
       "      <td>...</td>\n",
       "      <td>...</td>\n",
       "      <td>...</td>\n",
       "      <td>...</td>\n",
       "      <td>...</td>\n",
       "      <td>...</td>\n",
       "      <td>...</td>\n",
       "      <td>...</td>\n",
       "      <td>...</td>\n",
       "    </tr>\n",
       "    <tr>\n",
       "      <th>23901</th>\n",
       "      <td>C_CND_023902</td>\n",
       "      <td>12/31/2023</td>\n",
       "      <td>Martin</td>\n",
       "      <td>Male</td>\n",
       "      <td>13500</td>\n",
       "      <td>C &amp; M Motors Inc</td>\n",
       "      <td>Plymouth</td>\n",
       "      <td>Voyager</td>\n",
       "      <td>Overhead Camshaft</td>\n",
       "      <td>Manual</td>\n",
       "      <td>Red</td>\n",
       "      <td>12000</td>\n",
       "      <td>60504-7114</td>\n",
       "      <td>Passenger</td>\n",
       "      <td>8583598</td>\n",
       "      <td>Pasco</td>\n",
       "    </tr>\n",
       "    <tr>\n",
       "      <th>23902</th>\n",
       "      <td>C_CND_023903</td>\n",
       "      <td>12/31/2023</td>\n",
       "      <td>Jimmy</td>\n",
       "      <td>Female</td>\n",
       "      <td>900000</td>\n",
       "      <td>Ryder Truck Rental and Leasing</td>\n",
       "      <td>Chevrolet</td>\n",
       "      <td>Prizm</td>\n",
       "      <td>DoubleÂ Overhead Camshaft</td>\n",
       "      <td>Auto</td>\n",
       "      <td>Black</td>\n",
       "      <td>16000</td>\n",
       "      <td>06457-3834</td>\n",
       "      <td>Hardtop</td>\n",
       "      <td>7914229</td>\n",
       "      <td>Middletown</td>\n",
       "    </tr>\n",
       "    <tr>\n",
       "      <th>23903</th>\n",
       "      <td>C_CND_023904</td>\n",
       "      <td>12/31/2023</td>\n",
       "      <td>Emma</td>\n",
       "      <td>Male</td>\n",
       "      <td>705000</td>\n",
       "      <td>Chrysler of Tri-Cities</td>\n",
       "      <td>BMW</td>\n",
       "      <td>328i</td>\n",
       "      <td>Overhead Camshaft</td>\n",
       "      <td>Manual</td>\n",
       "      <td>Red</td>\n",
       "      <td>21000</td>\n",
       "      <td>99301-3882</td>\n",
       "      <td>Sedan</td>\n",
       "      <td>7659127</td>\n",
       "      <td>Scottsdale</td>\n",
       "    </tr>\n",
       "    <tr>\n",
       "      <th>23904</th>\n",
       "      <td>C_CND_023905</td>\n",
       "      <td>12/31/2023</td>\n",
       "      <td>Victoire</td>\n",
       "      <td>Male</td>\n",
       "      <td>13500</td>\n",
       "      <td>Chrysler Plymouth</td>\n",
       "      <td>Chevrolet</td>\n",
       "      <td>Metro</td>\n",
       "      <td>DoubleÂ Overhead Camshaft</td>\n",
       "      <td>Auto</td>\n",
       "      <td>Black</td>\n",
       "      <td>31000</td>\n",
       "      <td>53546-9427</td>\n",
       "      <td>Passenger</td>\n",
       "      <td>6030764</td>\n",
       "      <td>Austin</td>\n",
       "    </tr>\n",
       "    <tr>\n",
       "      <th>23905</th>\n",
       "      <td>C_CND_023906</td>\n",
       "      <td>12/31/2023</td>\n",
       "      <td>Donovan</td>\n",
       "      <td>Male</td>\n",
       "      <td>1225000</td>\n",
       "      <td>Pars Auto Sales</td>\n",
       "      <td>Lexus</td>\n",
       "      <td>ES300</td>\n",
       "      <td>DoubleÂ Overhead Camshaft</td>\n",
       "      <td>Auto</td>\n",
       "      <td>Pale White</td>\n",
       "      <td>27500</td>\n",
       "      <td>38701-8047</td>\n",
       "      <td>Hardtop</td>\n",
       "      <td>7020564</td>\n",
       "      <td>Middletown</td>\n",
       "    </tr>\n",
       "  </tbody>\n",
       "</table>\n",
       "<p>23906 rows × 16 columns</p>\n",
       "</div>"
      ],
      "text/plain": [
       "             Car_id        Date Customer Name  Gender  Annual Income  \\\n",
       "0      C_CND_000001    1/2/2022     Geraldine    Male          13500   \n",
       "1      C_CND_000002    1/2/2022           Gia    Male        1480000   \n",
       "2      C_CND_000003    1/2/2022        Gianna    Male        1035000   \n",
       "3      C_CND_000004    1/2/2022       Giselle    Male          13500   \n",
       "4      C_CND_000005    1/2/2022         Grace    Male        1465000   \n",
       "...             ...         ...           ...     ...            ...   \n",
       "23901  C_CND_023902  12/31/2023        Martin    Male          13500   \n",
       "23902  C_CND_023903  12/31/2023         Jimmy  Female         900000   \n",
       "23903  C_CND_023904  12/31/2023          Emma    Male         705000   \n",
       "23904  C_CND_023905  12/31/2023      Victoire    Male          13500   \n",
       "23905  C_CND_023906  12/31/2023       Donovan    Male        1225000   \n",
       "\n",
       "                               Dealer_Name    Company       Model  \\\n",
       "0      Buddy Storbeck's Diesel Service Inc       Ford  Expedition   \n",
       "1                         C & M Motors Inc      Dodge     Durango   \n",
       "2                              Capitol KIA   Cadillac    Eldorado   \n",
       "3                   Chrysler of Tri-Cities     Toyota      Celica   \n",
       "4                        Chrysler Plymouth      Acura          TL   \n",
       "...                                    ...        ...         ...   \n",
       "23901                     C & M Motors Inc   Plymouth     Voyager   \n",
       "23902       Ryder Truck Rental and Leasing  Chevrolet       Prizm   \n",
       "23903               Chrysler of Tri-Cities        BMW        328i   \n",
       "23904                    Chrysler Plymouth  Chevrolet       Metro   \n",
       "23905                      Pars Auto Sales      Lexus       ES300   \n",
       "\n",
       "                          Engine Transmission       Color  Price ($)  \\\n",
       "0      DoubleÂ Overhead Camshaft         Auto       Black      26000   \n",
       "1      DoubleÂ Overhead Camshaft         Auto       Black      19000   \n",
       "2              Overhead Camshaft       Manual         Red      31500   \n",
       "3              Overhead Camshaft       Manual  Pale White      14000   \n",
       "4      DoubleÂ Overhead Camshaft         Auto         Red      24500   \n",
       "...                          ...          ...         ...        ...   \n",
       "23901          Overhead Camshaft       Manual         Red      12000   \n",
       "23902  DoubleÂ Overhead Camshaft         Auto       Black      16000   \n",
       "23903          Overhead Camshaft       Manual         Red      21000   \n",
       "23904  DoubleÂ Overhead Camshaft         Auto       Black      31000   \n",
       "23905  DoubleÂ Overhead Camshaft         Auto  Pale White      27500   \n",
       "\n",
       "       Dealer_No  Body Style    Phone Dealer_Region  \n",
       "0      06457-3834        SUV  8264678    Middletown  \n",
       "1      60504-7114        SUV  6848189        Aurora  \n",
       "2      38701-8047  Passenger  7298798    Greenville  \n",
       "3      99301-3882        SUV  6257557         Pasco  \n",
       "4      53546-9427  Hatchback  7081483    Janesville  \n",
       "...           ...        ...      ...           ...  \n",
       "23901  60504-7114  Passenger  8583598         Pasco  \n",
       "23902  06457-3834    Hardtop  7914229    Middletown  \n",
       "23903  99301-3882      Sedan  7659127    Scottsdale  \n",
       "23904  53546-9427  Passenger  6030764        Austin  \n",
       "23905  38701-8047    Hardtop  7020564    Middletown  \n",
       "\n",
       "[23906 rows x 16 columns]"
      ]
     },
     "execution_count": 6,
     "metadata": {},
     "output_type": "execute_result"
    }
   ],
   "source": [
    "import pandas as pd\n",
    "import numpy as np\n",
    "import math as ma\n",
    "import re\n",
    "import matplotlib.pyplot as plt\n",
    "import seaborn as sns\n",
    "\n",
    "df = pd.read_csv(\"car_sales.csv\")\n",
    "\n",
    "df"
   ]
  },
  {
   "cell_type": "markdown",
   "id": "dd272c33-7b35-4c42-85f1-12963da80763",
   "metadata": {},
   "source": [
    "- [x] **Check the data types**"
   ]
  },
  {
   "cell_type": "code",
   "execution_count": 16,
   "id": "61573c01-e043-4bde-a77a-d4d0e5f91e5b",
   "metadata": {},
   "outputs": [
    {
     "data": {
      "text/plain": [
       "Car_id           object\n",
       "Date             object\n",
       "Customer Name    object\n",
       "Gender           object\n",
       "Annual Income     int64\n",
       "Dealer_Name      object\n",
       "Company          object\n",
       "Model            object\n",
       "Engine           object\n",
       "Transmission     object\n",
       "Color            object\n",
       "Price ($)         int64\n",
       "Dealer_No        object\n",
       "Body Style       object\n",
       "Phone             int64\n",
       "Dealer_Region    object\n",
       "dtype: object"
      ]
     },
     "execution_count": 16,
     "metadata": {},
     "output_type": "execute_result"
    }
   ],
   "source": [
    "df.dtypes"
   ]
  },
  {
   "cell_type": "markdown",
   "id": "ba3e95c4-887f-4be1-b879-0d8e94f50468",
   "metadata": {},
   "source": [
    "- [x] **Count Occurrences**"
   ]
  },
  {
   "cell_type": "code",
   "execution_count": 22,
   "id": "d4f1d50d-9045-4ae4-a996-2adcd1e9c170",
   "metadata": {
    "scrolled": true
   },
   "outputs": [
    {
     "name": "stdout",
     "output_type": "stream",
     "text": [
      "Value counts for Car_id:\n",
      "Car_id\n",
      "C_CND_000001    1\n",
      "C_CND_015935    1\n",
      "C_CND_015944    1\n",
      "C_CND_015943    1\n",
      "C_CND_015942    1\n",
      "               ..\n",
      "C_CND_007967    1\n",
      "C_CND_007966    1\n",
      "C_CND_007965    1\n",
      "C_CND_007964    1\n",
      "C_CND_023906    1\n",
      "Name: count, Length: 23906, dtype: int64\n",
      "----------------------------------------\n",
      "\n",
      "Value counts for Date:\n",
      "Date\n",
      "9/5/2023      190\n",
      "11/10/2023    175\n",
      "12/29/2023    151\n",
      "12/11/2023    140\n",
      "11/24/2023    135\n",
      "             ... \n",
      "6/21/2022       5\n",
      "7/12/2023       5\n",
      "12/9/2022       5\n",
      "7/8/2022        5\n",
      "6/29/2023       5\n",
      "Name: count, Length: 612, dtype: int64\n",
      "----------------------------------------\n",
      "\n",
      "Value counts for Customer Name:\n",
      "Customer Name\n",
      "Thomas           92\n",
      "Emma             90\n",
      "Lucas            88\n",
      "Nathan           80\n",
      "Louis            76\n",
      "                 ..\n",
      "Adelin            1\n",
      "Zakarya           1\n",
      "Paule             1\n",
      "Noeline           1\n",
      "Djamel Epoine     1\n",
      "Name: count, Length: 3021, dtype: int64\n",
      "----------------------------------------\n",
      "\n",
      "Value counts for Gender:\n",
      "Gender\n",
      "Male      18798\n",
      "Female     5108\n",
      "Name: count, dtype: int64\n",
      "----------------------------------------\n",
      "\n",
      "Value counts for Annual Income:\n",
      "Annual Income\n",
      "13500      5273\n",
      "1100000     162\n",
      "600000      160\n",
      "800000      151\n",
      "1300000     148\n",
      "           ... \n",
      "2145000       1\n",
      "3171000       1\n",
      "1134000       1\n",
      "706750        1\n",
      "1369000       1\n",
      "Name: count, Length: 2508, dtype: int64\n",
      "----------------------------------------\n",
      "\n",
      "Value counts for Dealer_Name:\n",
      "Dealer_Name\n",
      "Progressive Shippers Cooperative Association No    1318\n",
      "Rabun Used Car Sales                               1313\n",
      "Race Car Help                                      1253\n",
      "Saab-Belle Dodge                                   1251\n",
      "Star Enterprises Inc                               1249\n",
      "Tri-State Mack Inc                                 1249\n",
      "Ryder Truck Rental and Leasing                     1248\n",
      "U-Haul CO                                          1247\n",
      "Scrivener Performance Engineering                  1246\n",
      "Suburban Ford                                      1243\n",
      "Nebo Chevrolet                                      633\n",
      "Pars Auto Sales                                     630\n",
      "New Castle Ford Lincoln Mercury                     629\n",
      "McKinney Dodge Chrysler Jeep                        629\n",
      "Hatfield Volkswagen                                 629\n",
      "Gartner Buick Hyundai Saab                          628\n",
      "Pitre Buick-Pontiac-Gmc of Scottsdale               628\n",
      "Capitol KIA                                         628\n",
      "Clay Johnson Auto Sales                             627\n",
      "Iceberg Rentals                                     627\n",
      "Buddy Storbeck's Diesel Service Inc                 627\n",
      "Motor Vehicle Branch Office                         626\n",
      "Chrysler of Tri-Cities                              626\n",
      "C & M Motors Inc                                    625\n",
      "Enterprise Rent A Car                               625\n",
      "Chrysler Plymouth                                   625\n",
      "Diehl Motor CO Inc                                  624\n",
      "Classic Chevy                                       623\n",
      "Name: count, dtype: int64\n",
      "----------------------------------------\n",
      "\n",
      "Value counts for Company:\n",
      "Company\n",
      "Chevrolet     1819\n",
      "Dodge         1671\n",
      "Ford          1614\n",
      "Volkswagen    1333\n",
      "Mercedes-B    1285\n",
      "Mitsubishi    1277\n",
      "Chrysler      1120\n",
      "Oldsmobile    1111\n",
      "Toyota        1110\n",
      "Nissan         886\n",
      "Mercury        874\n",
      "Lexus          802\n",
      "Pontiac        796\n",
      "BMW            790\n",
      "Volvo          789\n",
      "Honda          708\n",
      "Acura          689\n",
      "Cadillac       652\n",
      "Plymouth       617\n",
      "Saturn         586\n",
      "Lincoln        492\n",
      "Audi           468\n",
      "Buick          439\n",
      "Subaru         405\n",
      "Jeep           363\n",
      "Porsche        361\n",
      "Hyundai        264\n",
      "Saab           210\n",
      "Infiniti       195\n",
      "Jaguar         180\n",
      "Name: count, dtype: int64\n",
      "----------------------------------------\n",
      "\n",
      "Value counts for Model:\n",
      "Model\n",
      "Diamante         418\n",
      "Silhouette       411\n",
      "Prizm            411\n",
      "Passat           391\n",
      "Ram Pickup       383\n",
      "                ... \n",
      "Mirage            19\n",
      "Alero             18\n",
      "RX300             15\n",
      "Avalon            15\n",
      "Sebring Conv.     10\n",
      "Name: count, Length: 154, dtype: int64\n",
      "----------------------------------------\n",
      "\n",
      "Value counts for Engine:\n",
      "Engine\n",
      "DoubleÂ Overhead Camshaft    12571\n",
      "Overhead Camshaft            11335\n",
      "Name: count, dtype: int64\n",
      "----------------------------------------\n",
      "\n",
      "Value counts for Transmission:\n",
      "Transmission\n",
      "Auto      12571\n",
      "Manual    11335\n",
      "Name: count, dtype: int64\n",
      "----------------------------------------\n",
      "\n",
      "Value counts for Color:\n",
      "Color\n",
      "Pale White    11256\n",
      "Black          7857\n",
      "Red            4793\n",
      "Name: count, dtype: int64\n",
      "----------------------------------------\n",
      "\n",
      "Value counts for Price ($):\n",
      "Price ($)\n",
      "22000    1191\n",
      "19000     974\n",
      "21000     873\n",
      "26000     689\n",
      "18000     627\n",
      "         ... \n",
      "13350       1\n",
      "20101       1\n",
      "49601       1\n",
      "13850       1\n",
      "11060       1\n",
      "Name: count, Length: 870, dtype: int64\n",
      "----------------------------------------\n",
      "\n",
      "Value counts for Dealer_No :\n",
      "Dealer_No \n",
      "85257-3102    3814\n",
      "53546-9427    3813\n",
      "78758-7841    3753\n",
      "06457-3834    3132\n",
      "38701-8047    3132\n",
      "99301-3882    3132\n",
      "60504-7114    3130\n",
      "Name: count, dtype: int64\n",
      "----------------------------------------\n",
      "\n",
      "Value counts for Body Style:\n",
      "Body Style\n",
      "SUV          6374\n",
      "Hatchback    6128\n",
      "Sedan        4488\n",
      "Passenger    3945\n",
      "Hardtop      2971\n",
      "Name: count, dtype: int64\n",
      "----------------------------------------\n",
      "\n",
      "Value counts for Phone:\n",
      "Phone\n",
      "6005535    2\n",
      "7298842    2\n",
      "6955907    2\n",
      "6854031    2\n",
      "8895808    2\n",
      "          ..\n",
      "8458688    1\n",
      "7112195    1\n",
      "6991797    1\n",
      "7742424    1\n",
      "7020564    1\n",
      "Name: count, Length: 23804, dtype: int64\n",
      "----------------------------------------\n",
      "\n",
      "Value counts for Dealer_Region:\n",
      "Dealer_Region\n",
      "Austin        4135\n",
      "Janesville    3821\n",
      "Scottsdale    3433\n",
      "Pasco         3131\n",
      "Aurora        3130\n",
      "Middletown    3128\n",
      "Greenville    3128\n",
      "Name: count, dtype: int64\n",
      "----------------------------------------\n",
      "\n"
     ]
    }
   ],
   "source": [
    "df[\"Gender\"].value_counts()\n",
    "\n",
    "for column in df.columns:\n",
    "    print(f\"Value counts for {column}:\\n{df[column].value_counts()}\\n{'-'*40}\\n\")"
   ]
  },
  {
   "cell_type": "markdown",
   "id": "12129b92-22ed-44b2-b05d-a0879800a84e",
   "metadata": {},
   "source": [
    "## 2. Clean the data"
   ]
  },
  {
   "cell_type": "markdown",
   "id": "c9af36d8-f03d-4106-b918-c9ea1641f7c1",
   "metadata": {},
   "source": [
    "- [x] **Check if there are any NaN values in any columns. Use Imputation to fill them if necessary.**"
   ]
  },
  {
   "cell_type": "code",
   "execution_count": null,
   "id": "10d6cb69-0733-4577-b942-fe8913a7272c",
   "metadata": {},
   "outputs": [],
   "source": []
  },
  {
   "cell_type": "markdown",
   "id": "ea7f7b78-e6e6-43af-af53-6361a8decac2",
   "metadata": {},
   "source": [
    "- [x] **Check if there are any null values. Use Imputation to fill them if necessary.**"
   ]
  },
  {
   "cell_type": "code",
   "execution_count": null,
   "id": "1b6aac14-31aa-4fc3-b765-7c24d5e55bd8",
   "metadata": {},
   "outputs": [],
   "source": []
  },
  {
   "cell_type": "markdown",
   "id": "8a565ed3-154c-43c1-ad5a-730dc3a6e228",
   "metadata": {},
   "source": [
    "- [x] **Check for missing values**"
   ]
  },
  {
   "cell_type": "code",
   "execution_count": null,
   "id": "0f30ad5e-e63c-41ef-9021-286c2218461d",
   "metadata": {},
   "outputs": [],
   "source": []
  },
  {
   "cell_type": "markdown",
   "id": "31ba4516-3d0d-4d71-a2df-df33caf2f627",
   "metadata": {},
   "source": [
    "## 3. Analysis and Visualizations"
   ]
  },
  {
   "cell_type": "code",
   "execution_count": null,
   "id": "6b97be31-02e5-470e-9d59-0b45822b6a8d",
   "metadata": {},
   "outputs": [],
   "source": []
  },
  {
   "cell_type": "code",
   "execution_count": null,
   "id": "86663282-3570-4571-94aa-6f6999c21cf6",
   "metadata": {},
   "outputs": [],
   "source": []
  },
  {
   "cell_type": "code",
   "execution_count": null,
   "id": "64f91eb3-3e38-4b64-b0f0-0bc8439f8208",
   "metadata": {},
   "outputs": [],
   "source": []
  },
  {
   "cell_type": "markdown",
   "id": "13e6234b-deca-49f7-bae8-8e094d2198eb",
   "metadata": {},
   "source": [
    "# Data Science (Using the Pandas Library)"
   ]
  },
  {
   "cell_type": "markdown",
   "id": "eb1cbd03-a391-4047-a14e-f34069e5b64a",
   "metadata": {},
   "source": [
    "## 4. Inferential Statistics"
   ]
  },
  {
   "cell_type": "code",
   "execution_count": null,
   "id": "af0cedc9-f329-425e-a842-7edd464bbd04",
   "metadata": {},
   "outputs": [],
   "source": []
  },
  {
   "cell_type": "markdown",
   "id": "b3bc5cc9-4681-49b4-a709-772c8172f260",
   "metadata": {},
   "source": [
    "## PCA (Principal Component Analysis)"
   ]
  },
  {
   "cell_type": "markdown",
   "id": "d556a43d-5751-4bf7-b8b8-8a82e8dd693d",
   "metadata": {},
   "source": [
    "- [] **Use a PCA to analyze what are the best **"
   ]
  },
  {
   "cell_type": "code",
   "execution_count": null,
   "id": "a543fd1a-df0f-4885-974f-1547b69f2ea1",
   "metadata": {},
   "outputs": [],
   "source": [
    "from sklearn.decomposition import PCA\n",
    "from sklearn.preprocessing import StandardScaler\n",
    "from sklearn.model_selection import train_test_split\n",
    "import pandas as pd\n",
    "\n",
    "# Assuming you have preprocessed your data in 'X' (features) and 'y' (target)\n",
    "X = df.drop('Price ($)', axis=1)  # Features (excluding target column)\n",
    "y = df['Price ($)']  # Target column (e.g., car price)\n",
    "\n",
    "# Standardize the numerical features\n",
    "scaler = StandardScaler()\n",
    "X_scaled = scaler.fit_transform(X)\n",
    "\n",
    "# Initialize PCA (let’s reduce the dimensions to 2 for visualization)\n",
    "pca = PCA(n_components=2)  # You can choose n_components based on how much variance you want to preserve\n",
    "X_pca = pca.fit_transform(X_scaled)\n",
    "\n",
    "# Convert to DataFrame for easy visualization\n",
    "pca_df = pd.DataFrame(X_pca, columns=['PC1', 'PC2'])\n",
    "pca_df['Target'] = y  # Add target to the DataFrame for visualization\n",
    "\n",
    "print(pca_df.head())\n",
    "\n",
    "\n",
    "import matplotlib.pyplot as plt\n",
    "\n",
    "plt.figure(figsize=(8, 6))\n",
    "plt.scatter(pca_df['PC1'], pca_df['PC2'], c=pca_df['Target'], cmap='viridis')\n",
    "plt.title(\"PCA: Car Sales Dataset\")\n",
    "plt.xlabel('Principal Component 1')\n",
    "plt.ylabel('Principal Component 2')\n",
    "plt.colorbar(label='Price ($)')\n",
    "plt.show()\n"
   ]
  },
  {
   "cell_type": "markdown",
   "id": "48e03ba6-8ea7-46dc-a684-d7ecdf2dcbdf",
   "metadata": {},
   "source": [
    "## Random Forest"
   ]
  },
  {
   "cell_type": "markdown",
   "id": "4d65de80-b2b0-4919-8183-0f7e19af4674",
   "metadata": {},
   "source": [
    "- [] **Use a Random Forest model, coupled with feature importance, to help us understand which features (columns) in this dataset contribute the most to the model’s predictions**"
   ]
  },
  {
   "cell_type": "code",
   "execution_count": null,
   "id": "b10c7161-fc33-4a34-9f1c-ae95eda1b288",
   "metadata": {},
   "outputs": [],
   "source": [
    "from sklearn.ensemble import RandomForestRegressor  # Use RandomForestClassifier for classification tasks\n",
    "from sklearn.model_selection import train_test_split\n",
    "import pandas as pd\n",
    "\n",
    "# Assuming you have preprocessed your data in 'X' and 'y'\n",
    "X = df.drop('Price ($)', axis=1)  # Features\n",
    "y = df['Price ($)']  # Target\n",
    "\n",
    "# Split the data into training and testing sets\n",
    "X_train, X_test, y_train, y_test = train_test_split(X, y, test_size=0.2, random_state=42)\n",
    "\n",
    "# Initialize and train the Random Forest model\n",
    "model = RandomForestRegressor()\n",
    "model.fit(X_train, y_train)\n",
    "\n",
    "# Get feature importances\n",
    "feature_importances = model.feature_importances_\n",
    "\n",
    "# Create a DataFrame to display the importance of each feature\n",
    "feature_df = pd.DataFrame({\n",
    "    'Feature': X.columns,\n",
    "    'Importance': feature_importances\n",
    "}).sort_values(by='Importance', ascending=False)\n",
    "\n",
    "print(feature_df)"
   ]
  },
  {
   "cell_type": "markdown",
   "id": "4e83499f-32d2-4857-9152-14387df4f6da",
   "metadata": {},
   "source": [
    "- [] **Use a random forest model to predict**"
   ]
  },
  {
   "cell_type": "code",
   "execution_count": null,
   "id": "af7fe940-e7fe-4414-b232-35117874d6cf",
   "metadata": {},
   "outputs": [],
   "source": []
  },
  {
   "cell_type": "code",
   "execution_count": null,
   "id": "34059093-6c18-44b1-9729-2f55c0c7f89a",
   "metadata": {},
   "outputs": [],
   "source": []
  },
  {
   "cell_type": "markdown",
   "id": "6297772a-703f-430c-b77c-a34b6a901759",
   "metadata": {},
   "source": [
    "## KMeans Clustering"
   ]
  },
  {
   "cell_type": "markdown",
   "id": "4fcda57d-27a6-4052-9b1e-0dcf00d325dd",
   "metadata": {},
   "source": [
    "- [] **Segment customers into different clusters based on their preferences and demographics.**"
   ]
  },
  {
   "cell_type": "code",
   "execution_count": null,
   "id": "c1384102-3fad-4b16-b47d-39c0c524d503",
   "metadata": {},
   "outputs": [],
   "source": [
    "\n",
    "X = df[[]]\n",
    "\n",
    "inertia = []\n",
    "for k in range(1,11):\n",
    "    km = KMeans(n_clusters=k, random_state=42)\n",
    "    km.fit(X_train)\n",
    "    inertia.append(km.inertia_)\n",
    "\n",
    "plt.figure(figsize(10,5))\n",
    "plt.plot(range(1,11), inertia, marker=\"o\")\n",
    "plt.title(\"Best k value for KMeans Clustering\")\n",
    "plt.xlabel(\"\")\n",
    "plt.ylabel(\"\")\n",
    "plt.show()\n",
    "\n",
    "km = KMeanskm = KMeans(n_clusters=k, random_state=42)\n",
    "km.fit(X_train,y_train)"
   ]
  },
  {
   "cell_type": "markdown",
   "id": "165e01ce-ae5f-4274-80aa-81da7589bceb",
   "metadata": {},
   "source": [
    "## Linear Regression"
   ]
  },
  {
   "cell_type": "markdown",
   "id": "2d00dc38-6d25-4c6a-b55d-2262183bcee5",
   "metadata": {},
   "source": [
    "- [] **Use a Linear Regression model to predict the car price using the Engine, Body Style, Color, Dealer Region, Car Model, Company**"
   ]
  },
  {
   "cell_type": "code",
   "execution_count": null,
   "id": "d286a436-e658-494c-aedc-1ae70e681639",
   "metadata": {},
   "outputs": [],
   "source": [
    "X = df[[\"Engine\", \"Body Style\", \"Color\", \"Dealer Region\", \"Car Model\", \"Company\"]]\n",
    "y = df[\"Price\"]\n",
    "\n",
    "X_train,X_test,y_train, y_test = train_test_split(X,y,random_state=42,test_size=0.2)\n",
    "\n",
    "model = LinearRegression()\n",
    "model.fit(X_train,y_train)\n",
    "y_pred = model.predict(X_test)\n",
    "\n",
    "mae = mean_absolute_error(y_test,y_pred)\n",
    "mse = mean_squared_error(y_test,y_pred)\n",
    "rmse = np.sqrt(mse)\n",
    "r2 = r2_score(y_test,y_pred)\n",
    "\n"
   ]
  },
  {
   "cell_type": "markdown",
   "id": "9a61c8e5-9f70-4720-8a62-ba587b64c96d",
   "metadata": {},
   "source": [
    "## Gradient Boosting"
   ]
  },
  {
   "cell_type": "markdown",
   "id": "d1be9943-d331-47b0-b53e-999bc8868b20",
   "metadata": {},
   "source": [
    "- [] **Use a gradient boosting model to predict a customer's gender based on their Annual Income, Car Model, Body Style, and Dealer Region.**"
   ]
  },
  {
   "cell_type": "code",
   "execution_count": null,
   "id": "1d82a03e-9dac-46b7-8c99-04b72f15a31c",
   "metadata": {},
   "outputs": [],
   "source": [
    "X = df[[]]\n",
    "y= df[]\n",
    "\n",
    "scaler = StandardScaler()\n",
    "X_train = scaler.fit_transform(X_train)\n",
    "X_test = scaler.transform(X_test)\n",
    "\n",
    "model = XGBoostClassifier()\n",
    "model.fit(X_train,y_train)\n",
    "y_pred = model.predict(X_test)\n",
    "\n",
    "c_r = classification_report(y_test,y_pred)\n",
    "c_m = confusion_matrix(y_test,y_pred)\n",
    "\n",
    "plt.figure(figsize=(8,6))\n",
    "sns.heatmap(c_m, annot = True, fmt=\"d\", cmap=\"Blues\")\n",
    "plt.xlabel(\"\")\n",
    "plt.ylabel(\"\")\n",
    "plt.title(\"\")\n",
    "plt.show()\n",
    "\n"
   ]
  },
  {
   "cell_type": "markdown",
   "id": "baed6908-a56d-44e4-b887-7fb1d69df895",
   "metadata": {},
   "source": [
    "## Logistic Regression"
   ]
  },
  {
   "cell_type": "markdown",
   "id": "13ef1da6-f79e-45e7-b1d7-215d22b59599",
   "metadata": {},
   "source": [
    "- [] **Use a Logistic Regression model to predict the car model based on Dealer Region, Transmission, and Body Style**"
   ]
  },
  {
   "cell_type": "code",
   "execution_count": null,
   "id": "e7f27fd9-a65d-4823-a07e-4e058aebd173",
   "metadata": {},
   "outputs": [],
   "source": [
    "X = df[[\"Dealer Region\", \"Transmission\",\"Body Style\"]]\n",
    "y = df[\"Car Model\"]\n",
    "\n",
    "X_train,X_test,y_train,y_test = train_test_model(X,y, test_size=0.2, random_state=42)\n",
    "\n",
    "scaler = StandardScaler()\n",
    "X_train = scaler.fit_transform(X_train)\n",
    "X_test = scaler.transform(X_test)\n",
    "\n",
    "model = LogisticRegression()\n",
    "model.fit(X_train,y_train)\n",
    "y_pred = model.predict(X_test)\n",
    "\n",
    "c_r = classification_report(y_test,y_pred)\n",
    "c_m = confusion_matrix(y_test,y_pred)\n",
    "\n",
    "plt.figure(figsize=(8,6))\n",
    "sns.heatmap(c_m, annot = True, fmt=\"d\", cmap=\"Blues\")\n",
    "plt.xlabel(\"\")\n",
    "plt.ylabel(\"\")\n",
    "plt.title(\"\")\n",
    "plt.show()"
   ]
  },
  {
   "cell_type": "markdown",
   "id": "4d0523d8-476d-40ba-8bc4-fa05e8ec6b90",
   "metadata": {},
   "source": [
    "## Time Series and Forecasting"
   ]
  },
  {
   "cell_type": "markdown",
   "id": "430f1eee-8bca-4580-a63b-b9c6bbdb3cd4",
   "metadata": {},
   "source": [
    "- [] **Put the date as the index and plot the price column over time**"
   ]
  },
  {
   "cell_type": "code",
   "execution_count": null,
   "id": "eac2a141-a8ce-4006-83a2-96c5b71d4389",
   "metadata": {},
   "outputs": [],
   "source": []
  },
  {
   "cell_type": "markdown",
   "id": "f611fb05-ba82-44f9-9b35-4b2c110e2bce",
   "metadata": {},
   "source": [
    "- [] **Check for Seasonality**"
   ]
  },
  {
   "cell_type": "code",
   "execution_count": null,
   "id": "cb4f4c10-734e-46df-b00d-ed5e2fba95df",
   "metadata": {},
   "outputs": [],
   "source": []
  },
  {
   "cell_type": "markdown",
   "id": "babb1a48-8996-412f-b9d9-668dc9ef4da6",
   "metadata": {},
   "source": [
    "- [] **Check for Stationarity**"
   ]
  },
  {
   "cell_type": "code",
   "execution_count": null,
   "id": "b0d3ddff-ee8a-480d-9910-f86a33b581a6",
   "metadata": {},
   "outputs": [],
   "source": []
  },
  {
   "cell_type": "markdown",
   "id": "8d3a880f-0c63-4265-ad08-8c14add5d190",
   "metadata": {},
   "source": [
    "- [] **Try the ARIMA model**"
   ]
  },
  {
   "cell_type": "code",
   "execution_count": null,
   "id": "62194978-4b13-4dbd-950c-a9893c08f123",
   "metadata": {},
   "outputs": [],
   "source": []
  },
  {
   "cell_type": "markdown",
   "id": "dafaca62-2168-4ff6-983d-13d75c8101e0",
   "metadata": {},
   "source": [
    "- [] **Try the SARIMA model**"
   ]
  },
  {
   "cell_type": "code",
   "execution_count": null,
   "id": "a3dd5eb8-5f79-4f0a-bf4f-cf4e7612b953",
   "metadata": {},
   "outputs": [],
   "source": []
  },
  {
   "cell_type": "markdown",
   "id": "d669970b-3474-4d90-be92-82c3c5eed0db",
   "metadata": {},
   "source": [
    "- [] **Try the Exponential Smoothing model**"
   ]
  },
  {
   "cell_type": "code",
   "execution_count": null,
   "id": "c308af7b-e866-458f-bdc2-7258f1b59ffd",
   "metadata": {},
   "outputs": [],
   "source": []
  },
  {
   "cell_type": "markdown",
   "id": "430a4c7b-a0f7-44d1-82c3-f5a13897bf84",
   "metadata": {},
   "source": [
    "# Transfering the data to MySQL"
   ]
  },
  {
   "cell_type": "markdown",
   "id": "7d61c5cf-4a7d-446b-bab5-b7943cb0d71d",
   "metadata": {},
   "source": [
    "- [x] **Save the original dataset with fixed columns**"
   ]
  },
  {
   "cell_type": "code",
   "execution_count": null,
   "id": "e419a3ae-4532-4455-9ad9-43b6613df34b",
   "metadata": {},
   "outputs": [],
   "source": []
  },
  {
   "cell_type": "markdown",
   "id": "365a9fb9-d2cf-43eb-8543-25ce3207c6a7",
   "metadata": {},
   "source": [
    "- [x] **Save the clean dataset**"
   ]
  },
  {
   "cell_type": "code",
   "execution_count": null,
   "id": "df4670ad-c736-4677-919d-7a109c98081c",
   "metadata": {},
   "outputs": [],
   "source": []
  }
 ],
 "metadata": {
  "kernelspec": {
   "display_name": "Python 3 (ipykernel)",
   "language": "python",
   "name": "python3"
  },
  "language_info": {
   "codemirror_mode": {
    "name": "ipython",
    "version": 3
   },
   "file_extension": ".py",
   "mimetype": "text/x-python",
   "name": "python",
   "nbconvert_exporter": "python",
   "pygments_lexer": "ipython3",
   "version": "3.12.7"
  }
 },
 "nbformat": 4,
 "nbformat_minor": 5
}
