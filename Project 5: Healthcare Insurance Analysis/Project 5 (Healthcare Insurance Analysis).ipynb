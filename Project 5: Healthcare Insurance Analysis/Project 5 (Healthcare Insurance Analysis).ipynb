{
 "cells": [
  {
   "cell_type": "markdown",
   "id": "258fb2c6-4d65-46e2-b641-9ca8b674fb29",
   "metadata": {},
   "source": [
    "# Project 5: Healthcare Insurance Analysis"
   ]
  },
  {
   "cell_type": "markdown",
   "id": "6adb908d-f480-4336-930e-57980f3bf8e1",
   "metadata": {},
   "source": [
    "# Prefactory Remarks"
   ]
  },
  {
   "cell_type": "markdown",
   "id": "383fadf5-b12d-4adc-994d-185bcc4fdbc3",
   "metadata": {},
   "source": [
    "- [x] **Create a virtual environment to download the packages**"
   ]
  },
  {
   "cell_type": "code",
   "execution_count": null,
   "id": "9d12bcb6-4688-4d49-9085-4549f3fbb76b",
   "metadata": {},
   "outputs": [],
   "source": [
    "# You don't have to do this, it's just safer.\n",
    "\n",
    "# Install virtualenv (virtual environment):\n",
    "\n",
    "# !pip install virtualenv\n",
    "\n",
    "# Create a virtual environment named \"myenv\":\n",
    "\n",
    "# !python -m venv myenv\n",
    "\n",
    "# Activate the virtual environment:\n",
    "\n",
    "# myenv\\Scripts\\activate (Windows)\n",
    "# source myenv/bin/activate (macOS/Linux)\n",
    "\n",
    "# Upgrade pip and install essential data science libraries inside the virtual environment:\n",
    "\n",
    "# !myenv/bin/python -m pip install --upgrade pip  \n",
    "# !myenv/bin/python -m pip install numpy pandas matplotlib seaborn scikit-learn scipy statsmodels jupyterlab plotly openpyxl xlrd tensorflow keras torch torchvision pyspark ipykernel\n",
    "\n",
    "# Add the virtual environment as a Jupyter kernel:\n",
    "\n",
    "# !myenv/bin/python -m ipykernel install --user --name=myenv --display-name \"Python (myenv)\"\n",
    "\n",
    "# Deactivate the virtual environment (Run this in the terminal):\n",
    "\n",
    "# deactivate"
   ]
  },
  {
   "cell_type": "markdown",
   "id": "a401f4a4-bbad-409c-b62b-4e7e581db3da",
   "metadata": {},
   "source": [
    "- [x] **Libraries we might need to install or upgrade**"
   ]
  },
  {
   "cell_type": "code",
   "execution_count": null,
   "id": "e705281b-faec-450f-8d07-c28e2d676bf0",
   "metadata": {},
   "outputs": [],
   "source": [
    "# If you don't care to create a virtual environment, here is what you need to do to download the libraries\n",
    "\n",
    "# Run these directly in a cell to download the libraries:\n",
    "\n",
    "#!pip install tensorflow\n",
    "#!pip install pyspark\n",
    "#!pip install scikit-optimize (for skopt)\n",
    "#!pip install missingno\n",
    "#!pip install seaborn\n",
    "#!pip install numpy\n",
    "#!pip install pandas\n",
    "#!pip install matplotlib\n",
    "#!pip install scikit-learn\n",
    "\n",
    "# To update them, run this (with your desired library):\n",
    "\n",
    "#!pip install --upgrade scikit-learn"
   ]
  },
  {
   "cell_type": "markdown",
   "id": "8fd40250-eaec-4d36-a2fa-a4ee10e3beb9",
   "metadata": {},
   "source": [
    "- [x] **Tips for rearranging your Notebook**"
   ]
  },
  {
   "cell_type": "markdown",
   "id": "293a0245-9e5b-4cfd-aa2d-fbab0915863b",
   "metadata": {},
   "source": [
    "- Hold ctrl+shift and click on the various cells you want to move, then press the arrow keys to move them up or down."
   ]
  },
  {
   "cell_type": "markdown",
   "id": "f31491ce-9850-4599-8243-68437e1bf785",
   "metadata": {},
   "source": [
    "# Data Analysis (Using the Pandas Library)"
   ]
  },
  {
   "cell_type": "markdown",
   "id": "d327c150-d488-4bc7-8d3d-0241fb352bf3",
   "metadata": {},
   "source": [
    "## 1. Visualize the data"
   ]
  },
  {
   "cell_type": "markdown",
   "id": "f4e572fc-c60e-4025-bc53-127337369965",
   "metadata": {},
   "source": [
    "- [x] **View the data**"
   ]
  },
  {
   "cell_type": "code",
   "execution_count": 72,
   "id": "cd35dda2-3a6c-43ad-bfe0-49834b206240",
   "metadata": {
    "scrolled": true
   },
   "outputs": [
    {
     "data": {
      "text/html": [
       "<div>\n",
       "<style scoped>\n",
       "    .dataframe tbody tr th:only-of-type {\n",
       "        vertical-align: middle;\n",
       "    }\n",
       "\n",
       "    .dataframe tbody tr th {\n",
       "        vertical-align: top;\n",
       "    }\n",
       "\n",
       "    .dataframe thead th {\n",
       "        text-align: right;\n",
       "    }\n",
       "</style>\n",
       "<table border=\"1\" class=\"dataframe\">\n",
       "  <thead>\n",
       "    <tr style=\"text-align: right;\">\n",
       "      <th></th>\n",
       "      <th>age</th>\n",
       "      <th>sex</th>\n",
       "      <th>bmi</th>\n",
       "      <th>children</th>\n",
       "      <th>smoker</th>\n",
       "      <th>region</th>\n",
       "      <th>charges</th>\n",
       "    </tr>\n",
       "  </thead>\n",
       "  <tbody>\n",
       "    <tr>\n",
       "      <th>0</th>\n",
       "      <td>19.0</td>\n",
       "      <td>female</td>\n",
       "      <td>27.900</td>\n",
       "      <td>0.0</td>\n",
       "      <td>yes</td>\n",
       "      <td>southwest</td>\n",
       "      <td>16884.924</td>\n",
       "    </tr>\n",
       "    <tr>\n",
       "      <th>1</th>\n",
       "      <td>18.0</td>\n",
       "      <td>male</td>\n",
       "      <td>33.770</td>\n",
       "      <td>1.0</td>\n",
       "      <td>no</td>\n",
       "      <td>Southeast</td>\n",
       "      <td>1725.5523</td>\n",
       "    </tr>\n",
       "    <tr>\n",
       "      <th>2</th>\n",
       "      <td>28.0</td>\n",
       "      <td>male</td>\n",
       "      <td>33.000</td>\n",
       "      <td>3.0</td>\n",
       "      <td>no</td>\n",
       "      <td>southeast</td>\n",
       "      <td>$4449.462</td>\n",
       "    </tr>\n",
       "    <tr>\n",
       "      <th>3</th>\n",
       "      <td>33.0</td>\n",
       "      <td>male</td>\n",
       "      <td>22.705</td>\n",
       "      <td>0.0</td>\n",
       "      <td>no</td>\n",
       "      <td>northwest</td>\n",
       "      <td>$21984.47061</td>\n",
       "    </tr>\n",
       "    <tr>\n",
       "      <th>4</th>\n",
       "      <td>32.0</td>\n",
       "      <td>male</td>\n",
       "      <td>28.880</td>\n",
       "      <td>0.0</td>\n",
       "      <td>no</td>\n",
       "      <td>northwest</td>\n",
       "      <td>$3866.8552</td>\n",
       "    </tr>\n",
       "    <tr>\n",
       "      <th>...</th>\n",
       "      <td>...</td>\n",
       "      <td>...</td>\n",
       "      <td>...</td>\n",
       "      <td>...</td>\n",
       "      <td>...</td>\n",
       "      <td>...</td>\n",
       "      <td>...</td>\n",
       "    </tr>\n",
       "    <tr>\n",
       "      <th>1333</th>\n",
       "      <td>50.0</td>\n",
       "      <td>male</td>\n",
       "      <td>30.970</td>\n",
       "      <td>3.0</td>\n",
       "      <td>no</td>\n",
       "      <td>Northwest</td>\n",
       "      <td>$10600.5483</td>\n",
       "    </tr>\n",
       "    <tr>\n",
       "      <th>1334</th>\n",
       "      <td>-18.0</td>\n",
       "      <td>female</td>\n",
       "      <td>31.920</td>\n",
       "      <td>0.0</td>\n",
       "      <td>no</td>\n",
       "      <td>Northeast</td>\n",
       "      <td>2205.9808</td>\n",
       "    </tr>\n",
       "    <tr>\n",
       "      <th>1335</th>\n",
       "      <td>18.0</td>\n",
       "      <td>female</td>\n",
       "      <td>36.850</td>\n",
       "      <td>0.0</td>\n",
       "      <td>no</td>\n",
       "      <td>southeast</td>\n",
       "      <td>$1629.8335</td>\n",
       "    </tr>\n",
       "    <tr>\n",
       "      <th>1336</th>\n",
       "      <td>21.0</td>\n",
       "      <td>female</td>\n",
       "      <td>25.800</td>\n",
       "      <td>0.0</td>\n",
       "      <td>no</td>\n",
       "      <td>southwest</td>\n",
       "      <td>2007.945</td>\n",
       "    </tr>\n",
       "    <tr>\n",
       "      <th>1337</th>\n",
       "      <td>61.0</td>\n",
       "      <td>female</td>\n",
       "      <td>29.070</td>\n",
       "      <td>0.0</td>\n",
       "      <td>yes</td>\n",
       "      <td>northwest</td>\n",
       "      <td>29141.3603</td>\n",
       "    </tr>\n",
       "  </tbody>\n",
       "</table>\n",
       "<p>1338 rows × 7 columns</p>\n",
       "</div>"
      ],
      "text/plain": [
       "       age     sex     bmi  children smoker     region       charges\n",
       "0     19.0  female  27.900       0.0    yes  southwest     16884.924\n",
       "1     18.0    male  33.770       1.0     no  Southeast     1725.5523\n",
       "2     28.0    male  33.000       3.0     no  southeast     $4449.462\n",
       "3     33.0    male  22.705       0.0     no  northwest  $21984.47061\n",
       "4     32.0    male  28.880       0.0     no  northwest    $3866.8552\n",
       "...    ...     ...     ...       ...    ...        ...           ...\n",
       "1333  50.0    male  30.970       3.0     no  Northwest   $10600.5483\n",
       "1334 -18.0  female  31.920       0.0     no  Northeast     2205.9808\n",
       "1335  18.0  female  36.850       0.0     no  southeast    $1629.8335\n",
       "1336  21.0  female  25.800       0.0     no  southwest      2007.945\n",
       "1337  61.0  female  29.070       0.0    yes  northwest    29141.3603\n",
       "\n",
       "[1338 rows x 7 columns]"
      ]
     },
     "execution_count": 72,
     "metadata": {},
     "output_type": "execute_result"
    }
   ],
   "source": [
    "import pandas as pd\n",
    "import numpy as np\n",
    "import math as ma\n",
    "import re\n",
    "import matplotlib.pyplot as plt\n",
    "import seaborn as sns\n",
    "\n",
    "df_i = pd.read_csv(\"insurance.csv\")\n",
    "df_v = pd.read_csv(\"validation_dataset.csv\")\n",
    "\n",
    "df_i"
   ]
  },
  {
   "cell_type": "markdown",
   "id": "6570c104-293a-49c0-bb9f-b2792c6b1e86",
   "metadata": {},
   "source": [
    "- [x] **Check the data types**"
   ]
  },
  {
   "cell_type": "code",
   "execution_count": 22,
   "id": "48756214-2560-4c32-9b44-2ef82d8bd006",
   "metadata": {},
   "outputs": [
    {
     "data": {
      "text/plain": [
       "age         float64\n",
       "sex          object\n",
       "bmi         float64\n",
       "children    float64\n",
       "smoker       object\n",
       "region       object\n",
       "charges      object\n",
       "dtype: object"
      ]
     },
     "execution_count": 22,
     "metadata": {},
     "output_type": "execute_result"
    }
   ],
   "source": [
    "df_v.dtypes\n",
    "df_i.dtypes"
   ]
  },
  {
   "cell_type": "markdown",
   "id": "c52ef237-6748-47a9-a4bc-8111c22a85c2",
   "metadata": {},
   "source": [
    "- [x] **Count Occurrences**"
   ]
  },
  {
   "cell_type": "code",
   "execution_count": 124,
   "id": "29ecaf08-baa7-4221-adc2-957b95bca4f1",
   "metadata": {
    "scrolled": true
   },
   "outputs": [
    {
     "name": "stdout",
     "output_type": "stream",
     "text": [
      "Value counts for age:\n",
      "age\n",
      "18.0    3\n",
      "27.0    3\n",
      "29.0    3\n",
      "28.0    2\n",
      "70.0    2\n",
      "19.0    2\n",
      "63.0    2\n",
      "44.0    2\n",
      "57.0    2\n",
      "92.0    2\n",
      "46.0    1\n",
      "74.0    1\n",
      "45.0    1\n",
      "43.0    1\n",
      "52.0    1\n",
      "78.0    1\n",
      "40.0    1\n",
      "35.0    1\n",
      "89.0    1\n",
      "26.0    1\n",
      "58.0    1\n",
      "21.0    1\n",
      "23.0    1\n",
      "47.0    1\n",
      "33.0    1\n",
      "49.0    1\n",
      "39.0    1\n",
      "55.0    1\n",
      "84.0    1\n",
      "83.0    1\n",
      "20.0    1\n",
      "60.0    1\n",
      "51.0    1\n",
      "48.0    1\n",
      "42.0    1\n",
      "71.0    1\n",
      "61.0    1\n",
      "Name: count, dtype: int64\n",
      "----------------------------------------\n",
      "\n",
      "Value counts for sex:\n",
      "sex\n",
      "female    25\n",
      "male      25\n",
      "Name: count, dtype: int64\n",
      "----------------------------------------\n",
      "\n",
      "Value counts for bmi:\n",
      "bmi\n",
      "38.060000    2\n",
      "24.090000    1\n",
      "38.600000    1\n",
      "25.800000    1\n",
      "25.740000    1\n",
      "33.700000    1\n",
      "32.395000    1\n",
      "33.110000    1\n",
      "20.235000    1\n",
      "26.220000    1\n",
      "24.700000    1\n",
      "40.375000    1\n",
      "66.370173    1\n",
      "21.780000    1\n",
      "35.720000    1\n",
      "60.617535    1\n",
      "34.400000    1\n",
      "39.710000    1\n",
      "27.200000    1\n",
      "68.736874    1\n",
      "32.490000    1\n",
      "36.955000    1\n",
      "84.973279    1\n",
      "44.880000    1\n",
      "65.454749    1\n",
      "32.300000    1\n",
      "26.410000    1\n",
      "24.530000    1\n",
      "29.150000    1\n",
      "65.502135    1\n",
      "72.958351    1\n",
      "32.110000    1\n",
      "41.325000    1\n",
      "36.575000    1\n",
      "33.660000    1\n",
      "18.905000    1\n",
      "36.670000    1\n",
      "28.700000    1\n",
      "36.000000    1\n",
      "28.975000    1\n",
      "30.400000    1\n",
      "89.097296    1\n",
      "69.127267    1\n",
      "75.742693    1\n",
      "26.980000    1\n",
      "18.715000    1\n",
      "33.345000    1\n",
      "35.530000    1\n",
      "33.915000    1\n",
      "Name: count, dtype: int64\n",
      "----------------------------------------\n",
      "\n",
      "Value counts for children:\n",
      "children\n",
      "0.0     19\n",
      "2.0     11\n",
      "1.0      7\n",
      "13.0     3\n",
      "11.0     3\n",
      "3.0      3\n",
      "9.0      1\n",
      "10.0     1\n",
      "4.0      1\n",
      "6.0      1\n",
      "Name: count, dtype: int64\n",
      "----------------------------------------\n",
      "\n",
      "Value counts for smoker:\n",
      "smoker\n",
      "no     32\n",
      "yes    18\n",
      "Name: count, dtype: int64\n",
      "----------------------------------------\n",
      "\n",
      "Value counts for region:\n",
      "region\n",
      "northwest    16\n",
      "southeast    14\n",
      "northeast    11\n",
      "southwest     9\n",
      "Name: count, dtype: int64\n",
      "----------------------------------------\n",
      "\n"
     ]
    },
    {
     "ename": "KeyError",
     "evalue": "'charges'",
     "output_type": "error",
     "traceback": [
      "\u001b[1;31m---------------------------------------------------------------------------\u001b[0m",
      "\u001b[1;31mKeyError\u001b[0m                                  Traceback (most recent call last)",
      "File \u001b[1;32m~\\ansel\\Lib\\site-packages\\pandas\\core\\indexes\\base.py:3805\u001b[0m, in \u001b[0;36mIndex.get_loc\u001b[1;34m(self, key)\u001b[0m\n\u001b[0;32m   3804\u001b[0m \u001b[38;5;28;01mtry\u001b[39;00m:\n\u001b[1;32m-> 3805\u001b[0m     \u001b[38;5;28;01mreturn\u001b[39;00m \u001b[38;5;28mself\u001b[39m\u001b[38;5;241m.\u001b[39m_engine\u001b[38;5;241m.\u001b[39mget_loc(casted_key)\n\u001b[0;32m   3806\u001b[0m \u001b[38;5;28;01mexcept\u001b[39;00m \u001b[38;5;167;01mKeyError\u001b[39;00m \u001b[38;5;28;01mas\u001b[39;00m err:\n",
      "File \u001b[1;32mindex.pyx:167\u001b[0m, in \u001b[0;36mpandas._libs.index.IndexEngine.get_loc\u001b[1;34m()\u001b[0m\n",
      "File \u001b[1;32mindex.pyx:196\u001b[0m, in \u001b[0;36mpandas._libs.index.IndexEngine.get_loc\u001b[1;34m()\u001b[0m\n",
      "File \u001b[1;32mpandas\\\\_libs\\\\hashtable_class_helper.pxi:7081\u001b[0m, in \u001b[0;36mpandas._libs.hashtable.PyObjectHashTable.get_item\u001b[1;34m()\u001b[0m\n",
      "File \u001b[1;32mpandas\\\\_libs\\\\hashtable_class_helper.pxi:7089\u001b[0m, in \u001b[0;36mpandas._libs.hashtable.PyObjectHashTable.get_item\u001b[1;34m()\u001b[0m\n",
      "\u001b[1;31mKeyError\u001b[0m: 'charges'",
      "\nThe above exception was the direct cause of the following exception:\n",
      "\u001b[1;31mKeyError\u001b[0m                                  Traceback (most recent call last)",
      "Cell \u001b[1;32mIn[124], line 9\u001b[0m\n\u001b[0;32m      6\u001b[0m \u001b[38;5;66;03m# We can do all of them instead of one by one:\u001b[39;00m\n\u001b[0;32m      8\u001b[0m \u001b[38;5;28;01mfor\u001b[39;00m column \u001b[38;5;129;01min\u001b[39;00m df_i\u001b[38;5;241m.\u001b[39mcolumns:\n\u001b[1;32m----> 9\u001b[0m     \u001b[38;5;28mprint\u001b[39m(\u001b[38;5;124mf\u001b[39m\u001b[38;5;124m\"\u001b[39m\u001b[38;5;124mValue counts for \u001b[39m\u001b[38;5;132;01m{\u001b[39;00mcolumn\u001b[38;5;132;01m}\u001b[39;00m\u001b[38;5;124m:\u001b[39m\u001b[38;5;130;01m\\n\u001b[39;00m\u001b[38;5;132;01m{\u001b[39;00mdf_v[column]\u001b[38;5;241m.\u001b[39mvalue_counts()\u001b[38;5;132;01m}\u001b[39;00m\u001b[38;5;130;01m\\n\u001b[39;00m\u001b[38;5;132;01m{\u001b[39;00m\u001b[38;5;124m'\u001b[39m\u001b[38;5;124m-\u001b[39m\u001b[38;5;124m'\u001b[39m\u001b[38;5;241m*\u001b[39m\u001b[38;5;241m40\u001b[39m\u001b[38;5;132;01m}\u001b[39;00m\u001b[38;5;130;01m\\n\u001b[39;00m\u001b[38;5;124m\"\u001b[39m)\n",
      "File \u001b[1;32m~\\ansel\\Lib\\site-packages\\pandas\\core\\frame.py:4102\u001b[0m, in \u001b[0;36mDataFrame.__getitem__\u001b[1;34m(self, key)\u001b[0m\n\u001b[0;32m   4100\u001b[0m \u001b[38;5;28;01mif\u001b[39;00m \u001b[38;5;28mself\u001b[39m\u001b[38;5;241m.\u001b[39mcolumns\u001b[38;5;241m.\u001b[39mnlevels \u001b[38;5;241m>\u001b[39m \u001b[38;5;241m1\u001b[39m:\n\u001b[0;32m   4101\u001b[0m     \u001b[38;5;28;01mreturn\u001b[39;00m \u001b[38;5;28mself\u001b[39m\u001b[38;5;241m.\u001b[39m_getitem_multilevel(key)\n\u001b[1;32m-> 4102\u001b[0m indexer \u001b[38;5;241m=\u001b[39m \u001b[38;5;28mself\u001b[39m\u001b[38;5;241m.\u001b[39mcolumns\u001b[38;5;241m.\u001b[39mget_loc(key)\n\u001b[0;32m   4103\u001b[0m \u001b[38;5;28;01mif\u001b[39;00m is_integer(indexer):\n\u001b[0;32m   4104\u001b[0m     indexer \u001b[38;5;241m=\u001b[39m [indexer]\n",
      "File \u001b[1;32m~\\ansel\\Lib\\site-packages\\pandas\\core\\indexes\\base.py:3812\u001b[0m, in \u001b[0;36mIndex.get_loc\u001b[1;34m(self, key)\u001b[0m\n\u001b[0;32m   3807\u001b[0m     \u001b[38;5;28;01mif\u001b[39;00m \u001b[38;5;28misinstance\u001b[39m(casted_key, \u001b[38;5;28mslice\u001b[39m) \u001b[38;5;129;01mor\u001b[39;00m (\n\u001b[0;32m   3808\u001b[0m         \u001b[38;5;28misinstance\u001b[39m(casted_key, abc\u001b[38;5;241m.\u001b[39mIterable)\n\u001b[0;32m   3809\u001b[0m         \u001b[38;5;129;01mand\u001b[39;00m \u001b[38;5;28many\u001b[39m(\u001b[38;5;28misinstance\u001b[39m(x, \u001b[38;5;28mslice\u001b[39m) \u001b[38;5;28;01mfor\u001b[39;00m x \u001b[38;5;129;01min\u001b[39;00m casted_key)\n\u001b[0;32m   3810\u001b[0m     ):\n\u001b[0;32m   3811\u001b[0m         \u001b[38;5;28;01mraise\u001b[39;00m InvalidIndexError(key)\n\u001b[1;32m-> 3812\u001b[0m     \u001b[38;5;28;01mraise\u001b[39;00m \u001b[38;5;167;01mKeyError\u001b[39;00m(key) \u001b[38;5;28;01mfrom\u001b[39;00m \u001b[38;5;21;01merr\u001b[39;00m\n\u001b[0;32m   3813\u001b[0m \u001b[38;5;28;01mexcept\u001b[39;00m \u001b[38;5;167;01mTypeError\u001b[39;00m:\n\u001b[0;32m   3814\u001b[0m     \u001b[38;5;66;03m# If we have a listlike key, _check_indexing_error will raise\u001b[39;00m\n\u001b[0;32m   3815\u001b[0m     \u001b[38;5;66;03m#  InvalidIndexError. Otherwise we fall through and re-raise\u001b[39;00m\n\u001b[0;32m   3816\u001b[0m     \u001b[38;5;66;03m#  the TypeError.\u001b[39;00m\n\u001b[0;32m   3817\u001b[0m     \u001b[38;5;28mself\u001b[39m\u001b[38;5;241m.\u001b[39m_check_indexing_error(key)\n",
      "\u001b[1;31mKeyError\u001b[0m: 'charges'"
     ]
    }
   ],
   "source": [
    "df_i = pd.read_csv(\"insurance.csv\")\n",
    "df_v = pd.read_csv(\"validation_dataset.csv\")\n",
    "\n",
    "df_v[\"sex\"].value_counts()\n",
    "\n",
    "# We can do all of them instead of one by one:\n",
    "\n",
    "for column in df_i.columns:\n",
    "    print(f\"Value counts for {column}:\\n{df_v[column].value_counts()}\\n{'-'*40}\\n\")  # something wrong here"
   ]
  },
  {
   "cell_type": "markdown",
   "id": "6e74058c-1358-49d1-ac93-6f92046dde88",
   "metadata": {},
   "source": [
    "## 2. Reorganizing and Cleaning the Data"
   ]
  },
  {
   "cell_type": "markdown",
   "id": "72255558-131b-4885-b7f3-e95f1a4ab6c5",
   "metadata": {},
   "source": [
    "- [x] **Check for missing values**"
   ]
  },
  {
   "cell_type": "code",
   "execution_count": null,
   "id": "0801aa3c-6f6d-447b-a76b-50c4b8cc64bc",
   "metadata": {},
   "outputs": [],
   "source": []
  },
  {
   "cell_type": "markdown",
   "id": "5247059d-deba-405e-8849-71cf03fb768e",
   "metadata": {},
   "source": [
    "- [x] **Check for NaN values in all of the columns, then in a specific set of columns**"
   ]
  },
  {
   "cell_type": "code",
   "execution_count": null,
   "id": "ecfe1692-d515-4e78-9fc7-936544c6d306",
   "metadata": {},
   "outputs": [],
   "source": []
  },
  {
   "cell_type": "markdown",
   "id": "bc9f1958-4b6a-4bd1-becf-2915bf550ec6",
   "metadata": {},
   "source": [
    "- [x] **Rearranje and Rename Columns**"
   ]
  },
  {
   "cell_type": "code",
   "execution_count": null,
   "id": "d683943c-1300-4d4a-8c2a-31be0939ba9c",
   "metadata": {},
   "outputs": [],
   "source": []
  },
  {
   "cell_type": "markdown",
   "id": "125721bc-9538-49d7-9ba9-b687d3317fc7",
   "metadata": {},
   "source": [
    "- [x] **Check for erronious values (age should be only positive integers equal or above 18, region should have consistent names, charges sholdn't have units missing)**"
   ]
  },
  {
   "cell_type": "code",
   "execution_count": 108,
   "id": "cea94ec6-da78-49eb-8a4c-7288089c52e6",
   "metadata": {
    "scrolled": true
   },
   "outputs": [
    {
     "data": {
      "text/plain": [
       "0       16884.92400\n",
       "1        1725.55230\n",
       "2        4449.46200\n",
       "3       21984.47061\n",
       "4        3866.85520\n",
       "           ...     \n",
       "1333    10600.54830\n",
       "1334     2205.98080\n",
       "1335     1629.83350\n",
       "1336     2007.94500\n",
       "1337    29141.36030\n",
       "Name: charges (in American dollars), Length: 1338, dtype: float64"
      ]
     },
     "execution_count": 108,
     "metadata": {},
     "output_type": "execute_result"
    }
   ],
   "source": [
    "df_i = pd.read_csv(\"insurance.csv\")\n",
    "\n",
    "df_i[\"age\"].value_counts()  # We see thatthey're all integers but we have negative ages, so let's use the absolute value function\n",
    "\n",
    "def absolute_value(x):\n",
    "    return abs(x)\n",
    "\n",
    "df_i[\"age\"]= df_i[\"age\"].apply(absolute_value)\n",
    "\n",
    "df_i[\"age\"].value_counts()\n",
    "\n",
    "# Another way to do it is using the lambda function\n",
    "\n",
    "df_i[\"age\"] = df_i[\"age\"].apply(lambda x: abs(x))\n",
    "\n",
    "df_i[\"age\"].value_counts()\n",
    "\n",
    "# Now, let's fix the region\n",
    "\n",
    "# df_i[\"region\"].value_counts()  # Some of them are not properly capitalized, let's make it consistent\n",
    "\n",
    "df_i[\"region\"] = df_i[\"region\"].str.capitalize()\n",
    "\n",
    "df_i[\"region\"].value_counts()\n",
    "\n",
    "# Now let's see the charges column\n",
    "\n",
    "df_i[\"charges\"].value_counts()\n",
    "\n",
    "df_i[\"charges\"] = df_i[\"charges\"].str.replace(\"$\", \"\", regex=False)\n",
    "df_i[\"charges\"] = pd.to_numeric(df_i[\"charges\"], errors=\"coerce\")  # Converts to float, handling \"$nan\" as NaN\n",
    "\n",
    "df_i.rename(columns={\"charges\": \"charges (in American dollars)\"}, inplace=True)\n",
    "\n",
    "# Use imputation to fill in the NaN values (put the mean of the available values in the NaN slots)\n",
    "\n",
    "df_i[\"charges (in American dollars)\"] = df_i[\"charges (in American dollars)\"].fillna(df_i[\"charges (in American dollars)\"].mean())\n",
    "\n",
    "\n",
    "df_i[\"charges (in American dollars)\"]\n"
   ]
  },
  {
   "cell_type": "markdown",
   "id": "c47edac3-2258-4ecc-8d07-7d43ad05a474",
   "metadata": {},
   "source": [
    "## 3. Analysis and Visualizations"
   ]
  },
  {
   "cell_type": "code",
   "execution_count": null,
   "id": "8061f526-8631-4d6f-812c-9ebe9c8892de",
   "metadata": {},
   "outputs": [],
   "source": []
  },
  {
   "cell_type": "markdown",
   "id": "1070c68a-e765-48de-a992-b9204bb4da39",
   "metadata": {},
   "source": [
    "## 4. Data Merging"
   ]
  },
  {
   "cell_type": "code",
   "execution_count": null,
   "id": "4ccdef2e-1164-4f66-b971-6a313e164508",
   "metadata": {},
   "outputs": [],
   "source": []
  },
  {
   "cell_type": "markdown",
   "id": "923521fe-b9c9-4169-8dfe-f8ae28c5954a",
   "metadata": {},
   "source": [
    "# Data Science (Using the Pandas Library)"
   ]
  },
  {
   "cell_type": "markdown",
   "id": "1aad4ba4-b691-4ff2-ae5e-28d03339230a",
   "metadata": {},
   "source": [
    "## 5. Inferential Statistics"
   ]
  },
  {
   "cell_type": "code",
   "execution_count": null,
   "id": "8e4c0235-92ba-4af5-b466-141f100f7254",
   "metadata": {},
   "outputs": [],
   "source": []
  },
  {
   "cell_type": "markdown",
   "id": "d944ccd0-53c0-4bb8-b2b9-07cb8b821ee8",
   "metadata": {},
   "source": [
    "## 6. PCA (Principal Component Analysis)"
   ]
  },
  {
   "cell_type": "code",
   "execution_count": null,
   "id": "22bb587c-0552-4b35-975f-dc7cb857e364",
   "metadata": {},
   "outputs": [],
   "source": []
  },
  {
   "cell_type": "markdown",
   "id": "2fc44d86-b97e-4d09-9579-a846a26d4d93",
   "metadata": {},
   "source": [
    "## 7. Random Forest"
   ]
  },
  {
   "cell_type": "markdown",
   "id": "73757084-b88c-41a7-a237-535d9476323f",
   "metadata": {},
   "source": [
    "- [] **Use a Random Forest model, coupled with feature importance, to help us understand which features (columns) in this dataset contribute the most to the model’s predictions**"
   ]
  },
  {
   "cell_type": "code",
   "execution_count": null,
   "id": "b81f54fc-67a8-47ff-bff0-af8128512b82",
   "metadata": {},
   "outputs": [],
   "source": []
  },
  {
   "cell_type": "markdown",
   "id": "f68fe024-a0f0-4f71-ac00-d797fa117a21",
   "metadata": {},
   "source": [
    "## 8. KMeans Clustering"
   ]
  },
  {
   "cell_type": "markdown",
   "id": "4facab68-e703-4379-9181-c774aeaeea17",
   "metadata": {},
   "source": []
  },
  {
   "cell_type": "code",
   "execution_count": null,
   "id": "c67befba-9997-42fc-846c-b4db36829c46",
   "metadata": {},
   "outputs": [],
   "source": []
  },
  {
   "cell_type": "markdown",
   "id": "dba5b889-6df0-4940-9e52-d641c87d93d9",
   "metadata": {},
   "source": [
    "## 9. Logistic Regression"
   ]
  },
  {
   "cell_type": "markdown",
   "id": "ae019a5a-4c4c-4a03-96cb-a6e697c2753a",
   "metadata": {},
   "source": []
  },
  {
   "cell_type": "code",
   "execution_count": null,
   "id": "1005eb01-67a6-4e96-808c-ad3cd3c17488",
   "metadata": {},
   "outputs": [],
   "source": []
  },
  {
   "cell_type": "markdown",
   "id": "6f1105fe-5b8a-41b7-a5a0-f92b91a5f2c7",
   "metadata": {},
   "source": [
    "## 10. Gradient Boost"
   ]
  },
  {
   "cell_type": "markdown",
   "id": "b44d9baa-b0fa-48c5-af94-7ef78b0e2a90",
   "metadata": {},
   "source": []
  },
  {
   "cell_type": "code",
   "execution_count": null,
   "id": "b31a0f4b-28ab-46d0-9dd7-63cece13e940",
   "metadata": {},
   "outputs": [],
   "source": []
  },
  {
   "cell_type": "markdown",
   "id": "ff6342a4-c3ec-466e-9f20-f8f8d17e25a0",
   "metadata": {},
   "source": [
    "# Transfering the data to MySQL"
   ]
  },
  {
   "cell_type": "markdown",
   "id": "e2e491b9-0478-4634-995e-4e46c069659d",
   "metadata": {},
   "source": [
    "- [x] **Save the original dataset with fixed columns**"
   ]
  },
  {
   "cell_type": "code",
   "execution_count": null,
   "id": "0c0bd40e-4a2b-4499-ab0a-d91ce04e7024",
   "metadata": {},
   "outputs": [],
   "source": []
  },
  {
   "cell_type": "markdown",
   "id": "646f92aa-0869-4ae4-bcc4-92d4363ce871",
   "metadata": {},
   "source": [
    "- [x] **Save the clean dataset**"
   ]
  },
  {
   "cell_type": "code",
   "execution_count": null,
   "id": "bbe79a38-53f4-4a59-afb2-4dfe4ddff713",
   "metadata": {},
   "outputs": [],
   "source": []
  }
 ],
 "metadata": {
  "kernelspec": {
   "display_name": "Python 3 (ipykernel)",
   "language": "python",
   "name": "python3"
  },
  "language_info": {
   "codemirror_mode": {
    "name": "ipython",
    "version": 3
   },
   "file_extension": ".py",
   "mimetype": "text/x-python",
   "name": "python",
   "nbconvert_exporter": "python",
   "pygments_lexer": "ipython3",
   "version": "3.12.7"
  }
 },
 "nbformat": 4,
 "nbformat_minor": 5
}
